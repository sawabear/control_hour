{
 "cells": [
  {
   "cell_type": "code",
   "execution_count": 1,
   "metadata": {},
   "outputs": [],
   "source": [
    "# !pip3 install PyPDF2"
   ]
  },
  {
   "cell_type": "code",
   "execution_count": 2,
   "metadata": {},
   "outputs": [],
   "source": [
    "from PyPDF2 import PdfFileReader, PdfFileWriter\n",
    "\n",
    "def pdf_cat(input_files, output_stream):\n",
    "    input_streams = []\n",
    "    try:\n",
    "        # First open all the files, then produce the output file, and\n",
    "        # finally close the input files. This is necessary because\n",
    "        # the data isn't read from the input files until the write\n",
    "        # operation. Thanks to\n",
    "        # https://stackoverflow.com/questions/6773631/problem-with-closing-python-pypdf-writing-getting-a-valueerror-i-o-operation/6773733#6773733\n",
    "        for input_file in input_files:\n",
    "            input_streams.append(open(input_file, 'rb'))\n",
    "        writer = PdfFileWriter()\n",
    "        for reader in map(PdfFileReader, input_streams):\n",
    "            for n in range(reader.getNumPages()):\n",
    "                writer.addPage(reader.getPage(n))\n",
    "        output_stream = open(output_stream, 'wb')\n",
    "        writer.write(output_stream)\n",
    "    finally:\n",
    "        for f in input_streams:\n",
    "            f.close()\n",
    "        output_stream.close()\n"
   ]
  },
  {
   "cell_type": "code",
   "execution_count": null,
   "metadata": {},
   "outputs": [],
   "source": []
  },
  {
   "cell_type": "code",
   "execution_count": 3,
   "metadata": {},
   "outputs": [
    {
     "data": {
      "text/plain": [
       "['./pdfs/2021/11/16/Контрольные часы Республика Хакасия на 16-11-2021.pdf',\n",
       " './pdfs/2021/11/16/Контрольные часы Алтайский край на 16-11-2021.pdf',\n",
       " './pdfs/2021/11/16/Контрольные часы Красноярский край на 16-11-2021.pdf',\n",
       " './pdfs/2021/11/16/Контрольные часы Кемеровская область на 16-11-2021.pdf',\n",
       " './pdfs/2021/11/16/Контрольные часы Забайкальский край на 16-11-2021.pdf',\n",
       " './pdfs/2021/11/16/Контрольные часы Новосибирская область на 16-11-2021.pdf',\n",
       " './pdfs/2021/11/16/Контрольные часы Республика Тыва на 16-11-2021.pdf',\n",
       " './pdfs/2021/11/16/Контрольные часы Республика Бурятия на 16-11-2021.pdf',\n",
       " './pdfs/2021/11/16/Контрольные часы Волгоградская область на 16-11-2021.pdf',\n",
       " './pdfs/2021/11/16/Контрольные часы Краснодарский край на 16-11-2021.pdf',\n",
       " './pdfs/2021/11/16/Контрольные часы Ленинградская область на 16-11-2021.pdf',\n",
       " './pdfs/2021/11/16/Контрольные часы Мурманская область на 16-11-2021.pdf',\n",
       " './pdfs/2021/11/16/Контрольные часы Пермский край на 16-11-2021.pdf',\n",
       " './pdfs/2021/11/16/Контрольные часы Свердловская область на 16-11-2021.pdf',\n",
       " './pdfs/2021/11/16/Контрольные часы Ставропольский край на 16-11-2021.pdf',\n",
       " './pdfs/2021/11/16/Контрольные часы Тульская область на 16-11-2021.pdf',\n",
       " './pdfs/2021/11/16/Контрольные часы Хабаровский край на 16-11-2021.pdf',\n",
       " './pdfs/2021/11/16/Контрольные часы Приморский край на 16-11-2021.pdf']"
      ]
     },
     "execution_count": 3,
     "metadata": {},
     "output_type": "execute_result"
    }
   ],
   "source": [
    "import datetime, os\n",
    "\n",
    "today = datetime.date.today() + datetime.timedelta(days=1) # +1 day\n",
    "path = './pdfs/'\n",
    "\n",
    "region_zones = {\n",
    "    'Республика Хакасия' : 2,\n",
    "    'Алтайский край' : 2,\n",
    "    'Красноярский край' : 2,\n",
    "    'Кемеровская область' : 2,    \n",
    "    'Забайкальский край' : 2,\n",
    "    'Новосибирская область' : 2,\n",
    "    'Республика Тыва' : 2,\n",
    "    'Республика Бурятия' : 2,\n",
    "    'Волгоградская область' : 1,\n",
    "    'Краснодарский край' : 1,    \n",
    "    'Ленинградская область' : 1,\n",
    "    'Мурманская область' : 1,    \n",
    "    'Пермский край' : 1,\n",
    "    'Свердловская область' : 1,\n",
    "    'Ставропольский край' : 1,\n",
    "    'Тульская область' : 1,\n",
    "    'Хабаровский край' : 0,\n",
    "    'Приморский край' : 0,\n",
    "   }\n",
    "\n",
    "files = []\n",
    "file_error = 0\n",
    "for ter in region_zones:\n",
    "    full_path = path + today.strftime(\"%Y\") + '/' + today.strftime(\"%m\") + '/' + today.strftime(\"%d\") + '/' + 'Контрольные часы ' + ter + ' на ' + today.strftime(\"%d-%m-%Y\") + '.pdf'\n",
    "    if os.path.exists(full_path):\n",
    "        files += [full_path]\n",
    "    else:\n",
    "        file_error += 1\n",
    "files"
   ]
  },
  {
   "cell_type": "code",
   "execution_count": 4,
   "metadata": {},
   "outputs": [],
   "source": [
    "pdf_cat(files, path + today.strftime(\"%Y\") + '/' + today.strftime(\"%m\") + '/' + today.strftime(\"%d\") + '/' + 'Контрольные часы на ' + today.strftime(\"%d-%m-%Y\") + '.pdf')"
   ]
  },
  {
   "cell_type": "code",
   "execution_count": null,
   "metadata": {},
   "outputs": [],
   "source": []
  },
  {
   "cell_type": "code",
   "execution_count": 5,
   "metadata": {},
   "outputs": [],
   "source": [
    "import smtplib                                              # Импортируем библиотеку по работе с SMTP\n",
    "import ssl                                                  # Библиотека для работы с SSL\n",
    "import os                                                   # Функции для работы с операционной системой, не зависящие от используемой операционной системы\n",
    " \n",
    "# Добавляем необходимые подклассы - MIME-типы\n",
    "import mimetypes                                            # Импорт класса для обработки неизвестных MIME-типов, базирующихся на расширении файла\n",
    "from email import encoders                                  # Импортируем энкодер\n",
    "from email.mime.base import MIMEBase                        # Общий тип\n",
    "from email.mime.text import MIMEText                        # Текст/HTML\n",
    "from email.mime.image import MIMEImage                      # Изображения\n",
    "from email.mime.audio import MIMEAudio                      # Аудио\n",
    "from email.mime.multipart import MIMEMultipart              # Многокомпонентный объект\n",
    " \n",
    "\n",
    "def send_email(addr_to, msg_subj, msg_text, files):\n",
    "    addr_from = \"omima@suek.ru\"                             # Отправитель\n",
    "    password  = r'VxjNOJV]!3'                               # Пароль\n",
    " \n",
    "    msg = MIMEMultipart()                                   # Создаем сообщение\n",
    "    msg['From']    = addr_from                              # Адресат\n",
    "    msg['To']      = addr_to                                # Получатель\n",
    "    msg['Subject'] = msg_subj                               # Тема сообщения\n",
    " \n",
    "    body = msg_text                                         # Текст сообщения\n",
    "    msg.attach(MIMEText(body, 'plain'))                     # Добавляем в сообщение текст\n",
    " \n",
    "    process_attachement(msg, files)\n",
    " \n",
    "    #==========================================================================================================================\n",
    "    # Create a secure SSL context\n",
    "    context = ssl.SSLContext(ssl.PROTOCOL_TLSv1_2)\n",
    "    # Try to log in to server and send email\n",
    "    try:\n",
    "        server = smtplib.SMTP(\"kmr-relay.suek.ru\", 587)      # Создаем объект SMTP\n",
    "        server.ehlo()                                           # Can be omitted\n",
    "        server.starttls(context=context)                        # Начинаем шифрованный обмен по TLS\n",
    "        #server.set_debuglevel(True)                            # Включаем режим отладки, если не нужен - можно закомментировать\n",
    "        server.ehlo()                                           # Can be omitted\n",
    "        server.login(addr_from, password)                       # Получаем доступ\n",
    "        server.send_message(msg)                                # Отправляем сообщение\n",
    "        server.quit()                                           # Выходим\n",
    "    except Exception as e:\n",
    "        # Print any error messages to stdout\n",
    "        print('Возникла проблема при отправке. Ошибка: ' + str(e))        \n",
    "    #==========================================================================================================================\n",
    "\n",
    "def process_attachement(msg, files):                        # Функция по обработке списка, добавляемых к сообщению файлов\n",
    "    for f in files:\n",
    "        if os.path.isfile(f):                               # Если файл существует\n",
    "            attach_file(msg,f)                              # Добавляем файл к сообщению\n",
    "        elif os.path.exists(f):                             # Если путь не файл и существует, значит - папка\n",
    "            dir = os.listdir(f)                             # Получаем список файлов в папке\n",
    "            for file in dir:                                # Перебираем все файлы и...\n",
    "                attach_file(msg,f+\"/\"+file)                 # ...добавляем каждый файл к сообщению\n",
    "\n",
    "def attach_file(msg, filepath):                             # Функция по добавлению конкретного файла к сообщению\n",
    "    filename = os.path.basename(filepath)                   # Получаем только имя файла\n",
    "    ctype, encoding = mimetypes.guess_type(filepath)        # Определяем тип файла на основе его расширения\n",
    "    if ctype is None or encoding is not None:               # Если тип файла не определяется\n",
    "        ctype = 'application/octet-stream'                  # Будем использовать общий тип\n",
    "    maintype, subtype = ctype.split('/', 1)                 # Получаем тип и подтип\n",
    "    if maintype == 'text':                                  # Если текстовый файл\n",
    "        with open(filepath) as fp:                          # Открываем файл для чтения\n",
    "            file = MIMEText(fp.read(), _subtype=subtype)    # Используем тип MIMEText\n",
    "            fp.close()                                      # После использования файл обязательно нужно закрыть\n",
    "    elif maintype == 'image':                               # Если изображение\n",
    "        with open(filepath, 'rb') as fp:\n",
    "            file = MIMEImage(fp.read(), _subtype=subtype)\n",
    "            fp.close()\n",
    "    elif maintype == 'audio':                               # Если аудио\n",
    "        with open(filepath, 'rb') as fp:\n",
    "            file = MIMEAudio(fp.read(), _subtype=subtype)\n",
    "            fp.close()\n",
    "    else:                                                   # Неизвестный тип файла\n",
    "        with open(filepath, 'rb') as fp:\n",
    "            file = MIMEBase(maintype, subtype)              # Используем общий MIME-тип\n",
    "            file.set_payload(fp.read())                     # Добавляем содержимое общего типа (полезную нагрузку)\n",
    "            fp.close()\n",
    "            encoders.encode_base64(file)                    # Содержимое должно кодироваться как Base64\n",
    "    file.add_header('Content-Disposition', 'attachment', filename=filename) # Добавляем заголовки\n",
    "    msg.attach(file)                                        # Присоединяем файл к сообщению\n",
    "\n",
    "\n",
    "files = [path + today.strftime(\"%Y\") + '/' + today.strftime(\"%m\") + '/' + today.strftime(\"%d\") + '/' + 'Контрольные часы на ' + today.strftime(\"%d-%m-%Y\") + '.pdf', # Список файлов, если вложений нет, то files=[]\n",
    "        # \"file2_path\",                                      \n",
    "        # \"dir_path\"  # Если нужно отправить все файлы из заданной папки, нужно указать её\n",
    "        ]       \n",
    "\n",
    "# text_mail = ter + \"\\n\\nКонтрольные часы на \" + today.strftime(\"%d.%m.%Y\") + \" (МСК\" + hour_pref + \")\\n\\n\" + \"Это сообщение сформировано автоматически, отвечать на него не нужно.\"\n",
    "\n",
    "text_mail = \"Прогноз контрольных часов (часы максимума, СКЧ) на \" + today.strftime(\"%d.%m.%Y\")+ \".\\n\"\n",
    "# + \" по регионам:\\n\"\n",
    "# for ter in region_zones:\n",
    "#     if region_zones[ter] == 0:\n",
    "#         text_mail += \" - \" + ter + \" (время хабаровское).\\n\"\n",
    "#     else:\n",
    "#         text_mail += \" - \" + ter + \" (время московское).\\n\"\n",
    "text_mail += \"В указанные часы рекомендуется принимать меры по снижению потребления электроэнергии.\\n\\n\"\n",
    "text_mail += \"Это сообщение сформировано автоматически, отвечать на него не нужно.\\n\\n\"\n",
    "text_mail += \"При необходимости корректировки списка рассылки обращаться к Богданову А.В. по Email: BogdanovAndV@sibgenco.ru .\\n\\n\"\n",
    "text_mail += \"Это сообщение и все приложения к нему строго конфиденциальны и предназначены исключительно для использования получателем(адресатом), которому они адресованы. Использование информации, содержащейся в настоящем сообщении, допускается с соблюдением требований законодательства РФ об охране конфиденциальной информации и соглашений о коммерческой тайне.\"\n"
   ]
  },
  {
   "cell_type": "code",
   "execution_count": 6,
   "metadata": {},
   "outputs": [],
   "source": [
    "import pandas as pd\n",
    "\n",
    "pathP='/mnt/Production/СМП'"
   ]
  },
  {
   "cell_type": "code",
   "execution_count": 7,
   "metadata": {},
   "outputs": [],
   "source": [
    "addr_1cz = pd.read_excel(pathP + '/СКЧ списки на отправку.xlsx', sheet_name='1цз')\n",
    "# addr_1cz"
   ]
  },
  {
   "cell_type": "code",
   "execution_count": 8,
   "metadata": {},
   "outputs": [
    {
     "data": {
      "text/plain": [
       "Index(['Ленинградская область', 'Волгоградская область', 'Мурманская область',\n",
       "       'Тульская область', 'Ставропольский край', 'Пермский край',\n",
       "       'Краснодарский край', 'Свердловская область'],\n",
       "      dtype='object')"
      ]
     },
     "execution_count": 8,
     "metadata": {},
     "output_type": "execute_result"
    }
   ],
   "source": [
    "addr_1cz.columns"
   ]
  },
  {
   "cell_type": "code",
   "execution_count": 9,
   "metadata": {},
   "outputs": [],
   "source": [
    "addr_2cz = pd.read_excel(pathP + '/СКЧ списки на отправку.xlsx', sheet_name='2цз')\n",
    "# addr_2cz"
   ]
  },
  {
   "cell_type": "code",
   "execution_count": 10,
   "metadata": {},
   "outputs": [
    {
     "data": {
      "text/plain": [
       "Index(['Алтайский край', 'Красноярский край', 'Кемеровская область',\n",
       "       'Республика Хакасия', 'Новосибирская область', 'Забайкальский край',\n",
       "       'Республика Тыва', 'Республика Бурятия'],\n",
       "      dtype='object')"
      ]
     },
     "execution_count": 10,
     "metadata": {},
     "output_type": "execute_result"
    }
   ],
   "source": [
    "addr_2cz.columns"
   ]
  },
  {
   "cell_type": "code",
   "execution_count": 11,
   "metadata": {},
   "outputs": [],
   "source": [
    "addr_Ncz = pd.read_excel(pathP + '/СКЧ списки на отправку.xlsx', sheet_name='нцз')\n",
    "# addr_Ncz"
   ]
  },
  {
   "cell_type": "code",
   "execution_count": 12,
   "metadata": {},
   "outputs": [
    {
     "data": {
      "text/plain": [
       "Index(['Хабаровский край', 'Приморский край'], dtype='object')"
      ]
     },
     "execution_count": 12,
     "metadata": {},
     "output_type": "execute_result"
    }
   ],
   "source": [
    "addr_Ncz.columns"
   ]
  },
  {
   "cell_type": "code",
   "execution_count": 13,
   "metadata": {},
   "outputs": [],
   "source": [
    "addr_all = pd.read_excel(pathP + '/СКЧ списки на отправку.xlsx', sheet_name='Все регионы')\n",
    "# addr_all"
   ]
  },
  {
   "cell_type": "code",
   "execution_count": 14,
   "metadata": {},
   "outputs": [],
   "source": [
    "addr_cz = pd.concat([addr_1cz, addr_2cz, addr_Ncz], axis=1)\n",
    "# addr_cz"
   ]
  },
  {
   "cell_type": "code",
   "execution_count": 15,
   "metadata": {},
   "outputs": [],
   "source": [
    "addr_dict = {}\n",
    "\n",
    "for reg in region_zones:\n",
    "    addr_dict[reg] = []\n",
    "    for value in addr_cz[reg].dropna().values:\n",
    "#         print(value.split()[-1:][0])\n",
    "        addr_dict[reg].append(value.split()[-1:][0])\n",
    "    addr_dict[reg] = \", \".join(addr_dict[reg])\n",
    "# addr_dict"
   ]
  },
  {
   "cell_type": "code",
   "execution_count": 16,
   "metadata": {},
   "outputs": [
    {
     "name": "stdout",
     "output_type": "stream",
     "text": [
      "VelichkoYA@sibgenco.ru\n",
      "SaharovSN@suek.ru\n",
      "Sitovatv@sibgenco.ru\n",
      "TretiakovaOlS@sibgenco.ru\n",
      "kazarinms@sibgenco.ru\n"
     ]
    },
    {
     "data": {
      "text/plain": [
       "'VelichkoYA@sibgenco.ru,SaharovSN@suek.ru,Sitovatv@sibgenco.ru,TretiakovaOlS@sibgenco.ru,kazarinms@sibgenco.ru'"
      ]
     },
     "execution_count": 16,
     "metadata": {},
     "output_type": "execute_result"
    }
   ],
   "source": [
    "list_all = []\n",
    "for value in addr_all['Все регионы'].dropna().values:\n",
    "    print(value.split()[-1:][0])\n",
    "    list_all.append(value.split()[-1:][0])\n",
    "list_all = \",\".join(list_all)\n",
    "list_all"
   ]
  },
  {
   "cell_type": "code",
   "execution_count": 17,
   "metadata": {},
   "outputs": [],
   "source": [
    "# Получатель\n",
    "# addr_to   = 'KazarinMS@sibgenco.ru, VelichkoYA@sibgenco.ru'\n",
    "addr_to = list_all"
   ]
  },
  {
   "cell_type": "code",
   "execution_count": 18,
   "metadata": {},
   "outputs": [
    {
     "name": "stdout",
     "output_type": "stream",
     "text": [
      "emails = VelichkoYA@sibgenco.ru,SaharovSN@suek.ru,Sitovatv@sibgenco.ru,TretiakovaOlS@sibgenco.ru,kazarinms@sibgenco.ru\n"
     ]
    }
   ],
   "source": [
    "print('emails =', addr_to)"
   ]
  },
  {
   "cell_type": "code",
   "execution_count": 19,
   "metadata": {},
   "outputs": [
    {
     "name": "stdout",
     "output_type": "stream",
     "text": [
      "sended\n"
     ]
    }
   ],
   "source": [
    "# Использование функции send_email\n",
    "send_email(addr_to, \"Контрольные часы на \" + today.strftime(\"%d.%m.%Y\"), text_mail, files)\n",
    "print('sended')"
   ]
  },
  {
   "cell_type": "code",
   "execution_count": null,
   "metadata": {},
   "outputs": [],
   "source": []
  },
  {
   "cell_type": "code",
   "execution_count": null,
   "metadata": {},
   "outputs": [],
   "source": []
  }
 ],
 "metadata": {
  "kernelspec": {
   "display_name": "Python 3",
   "language": "python",
   "name": "python3"
  },
  "language_info": {
   "codemirror_mode": {
    "name": "ipython",
    "version": 3
   },
   "file_extension": ".py",
   "mimetype": "text/x-python",
   "name": "python",
   "nbconvert_exporter": "python",
   "pygments_lexer": "ipython3",
   "version": "3.6.9"
  }
 },
 "nbformat": 4,
 "nbformat_minor": 4
}
